{
 "cells": [
  {
   "cell_type": "markdown",
   "metadata": {},
   "source": [
    "## Question Answering Task"
   ]
  },
  {
   "cell_type": "code",
   "execution_count": 1,
   "metadata": {},
   "outputs": [
    {
     "name": "stderr",
     "output_type": "stream",
     "text": [
      "/opt/conda/lib/python3.11/site-packages/tqdm/auto.py:21: TqdmWarning: IProgress not found. Please update jupyter and ipywidgets. See https://ipywidgets.readthedocs.io/en/stable/user_install.html\n",
      "  from .autonotebook import tqdm as notebook_tqdm\n",
      "You are using the default legacy behaviour of the <class 'transformers.models.t5.tokenization_t5.T5Tokenizer'>. This is expected, and simply means that the `legacy` (previous) behavior will be used so nothing changes for you. If you want to use the new behaviour, set `legacy=False`. This should only be set if you understand what it means, and thoroughly read the reason why this was added as explained in https://github.com/huggingface/transformers/pull/24565\n"
     ]
    }
   ],
   "source": [
    "from transformers import T5Tokenizer, T5ForConditionalGeneration\n",
    "import torch\n",
    "from transformers import Trainer, TrainingArguments\n",
    "from datasets import Dataset\n",
    "import pandas as pd\n",
    "\n",
    "## get the t5 pretrained model from huggingface\n",
    "\n",
    "tokenizer = T5Tokenizer.from_pretrained(\"google-t5/t5-small\", device_map={\"\":0})\n",
    "model = T5ForConditionalGeneration.from_pretrained(\"google-t5/t5-small\", device_map={\"\":0})"
   ]
  },
  {
   "cell_type": "code",
   "execution_count": 2,
   "metadata": {},
   "outputs": [],
   "source": [
    "## Create a dataloader that will divide the 'sentences' in the dataset into question and answer pairs\n",
    "\n",
    "def load_data(data):\n",
    "    df = pd.read_csv(data)\n",
    "    input_list, target_list = [], []\n",
    "    for i in range(df.shape[0]):\n",
    "        ## question\n",
    "        input_temp = ('Type:' + df.iloc[i,0] + ' Series:' + str(df.iloc[i,1]) + ' Color:' +  df.iloc[i,2] + ' Buff:' +  \n",
    "                  str(df.iloc[i,3]) + ' Material:' + df.iloc[i,4] + ' Force:' +  str(df.iloc[i,5]) + ' Range:' + str(df.iloc[i,6])) + ' Attachment:' + str(df.iloc[i,7])\n",
    "        \n",
    "        ## answer\n",
    "        target_temp = ('Element:' + df.iloc[i,8] + ' Series_Comp:' + str(df.iloc[i,9]) + ' Force_Comp:' + \n",
    "                    str(df.iloc[i,10]) + ' Range_Comp:' + str(df.iloc[i,11]) + ' Source:' + df.iloc[i,12])\n",
    "\n",
    "        input_list.append(input_temp)\n",
    "        target_list.append(target_temp)\n",
    "\n",
    "    return {\n",
    "        'input_text': input_list,\n",
    "        'target_text': target_list\n",
    "    }\n",
    "\n",
    "## load the data\n",
    "data = load_data('data.csv')\n",
    "dataset = Dataset.from_dict(data)"
   ]
  },
  {
   "cell_type": "code",
   "execution_count": 3,
   "metadata": {},
   "outputs": [
    {
     "name": "stderr",
     "output_type": "stream",
     "text": [
      "Map:   0%|          | 0/1447 [00:00<?, ? examples/s]/opt/conda/lib/python3.11/site-packages/transformers/tokenization_utils_base.py:3951: UserWarning: `as_target_tokenizer` is deprecated and will be removed in v5 of Transformers. You can tokenize your labels by using the argument `text_target` of the regular `__call__` method (either in the same call as your input texts if you use the same keyword arguments, or in a separate call.\n",
      "  warnings.warn(\n",
      "Map: 100%|██████████| 1447/1447 [00:00<00:00, 5763.31 examples/s]\n"
     ]
    }
   ],
   "source": [
    "## Create a tokenizer for the sentence input\n",
    "\n",
    "def preprocess(examples):\n",
    "    inputs = ['generate_caps: ' + text for text in examples[\"input_text\"]]\n",
    "    model_inputs = tokenizer(inputs, max_length=128, truncation=True, padding='max_length')\n",
    "\n",
    "    with tokenizer.as_target_tokenizer():\n",
    "        labels = tokenizer(examples['target_text'], max_length=128, truncation=True, padding='max_length')\n",
    "\n",
    "    model_inputs['labels'] = labels['input_ids']\n",
    "\n",
    "    return model_inputs\n",
    "\n",
    "tokenized_dataset = dataset.map(preprocess, batched=True)"
   ]
  },
  {
   "cell_type": "code",
   "execution_count": 4,
   "metadata": {},
   "outputs": [],
   "source": [
    "## Set up the training arguments\n",
    "\n",
    "training_args = TrainingArguments(\n",
    "            output_dir='./results/exp',\n",
    "            num_train_epochs=15,\n",
    "            per_device_train_batch_size=8,\n",
    "            per_device_eval_batch_size=8,\n",
    "            warmup_steps=500,\n",
    "            weight_decay=0.001,\n",
    "            logging_dir='./logs',\n",
    ")"
   ]
  },
  {
   "cell_type": "code",
   "execution_count": 5,
   "metadata": {},
   "outputs": [
    {
     "name": "stderr",
     "output_type": "stream",
     "text": [
      "Passing a tuple of `past_key_values` is deprecated and will be removed in Transformers v4.48.0. You should pass an instance of `EncoderDecoderCache` instead, e.g. `past_key_values=EncoderDecoderCache.from_legacy_cache(past_key_values)`.\n"
     ]
    },
    {
     "data": {
      "text/html": [
       "\n",
       "    <div>\n",
       "      \n",
       "      <progress value='2715' max='2715' style='width:300px; height:20px; vertical-align: middle;'></progress>\n",
       "      [2715/2715 01:34, Epoch 15/15]\n",
       "    </div>\n",
       "    <table border=\"1\" class=\"dataframe\">\n",
       "  <thead>\n",
       " <tr style=\"text-align: left;\">\n",
       "      <th>Step</th>\n",
       "      <th>Training Loss</th>\n",
       "    </tr>\n",
       "  </thead>\n",
       "  <tbody>\n",
       "    <tr>\n",
       "      <td>500</td>\n",
       "      <td>2.481500</td>\n",
       "    </tr>\n",
       "    <tr>\n",
       "      <td>1000</td>\n",
       "      <td>0.033500</td>\n",
       "    </tr>\n",
       "    <tr>\n",
       "      <td>1500</td>\n",
       "      <td>0.027000</td>\n",
       "    </tr>\n",
       "    <tr>\n",
       "      <td>2000</td>\n",
       "      <td>0.024400</td>\n",
       "    </tr>\n",
       "    <tr>\n",
       "      <td>2500</td>\n",
       "      <td>0.023100</td>\n",
       "    </tr>\n",
       "  </tbody>\n",
       "</table><p>"
      ],
      "text/plain": [
       "<IPython.core.display.HTML object>"
      ]
     },
     "metadata": {},
     "output_type": "display_data"
    },
    {
     "data": {
      "text/plain": [
       "TrainOutput(global_step=2715, training_loss=0.4786847386790464, metrics={'train_runtime': 94.685, 'train_samples_per_second': 229.234, 'train_steps_per_second': 28.674, 'total_flos': 734398450237440.0, 'train_loss': 0.4786847386790464, 'epoch': 15.0})"
      ]
     },
     "execution_count": 5,
     "metadata": {},
     "output_type": "execute_result"
    }
   ],
   "source": [
    "## Initialize the trainer\n",
    "\n",
    "trainer = Trainer(\n",
    "        model=model,\n",
    "        args=training_args,\n",
    "        train_dataset=tokenized_dataset,\n",
    "\n",
    ")\n",
    "\n",
    "## Start training\n",
    "trainer.args._n_gpu = 1\n",
    "trainer.train()"
   ]
  },
  {
   "cell_type": "code",
   "execution_count": 8,
   "metadata": {},
   "outputs": [
    {
     "data": {
      "text/plain": [
       "('./weights/exp/t5_qa_tokenizer/tokenizer_config.json',\n",
       " './weights/exp/t5_qa_tokenizer/special_tokens_map.json',\n",
       " './weights/exp/t5_qa_tokenizer/spiece.model',\n",
       " './weights/exp/t5_qa_tokenizer/added_tokens.json')"
      ]
     },
     "execution_count": 8,
     "metadata": {},
     "output_type": "execute_result"
    }
   ],
   "source": [
    "## OPTIONAL: Save the model weights\n",
    "\n",
    "model.save_pretrained('./weights/exp/t5_qa_model')\n",
    "tokenizer.save_pretrained('./weights/exp/t5_qa_tokenizer')"
   ]
  },
  {
   "cell_type": "code",
   "execution_count": null,
   "metadata": {},
   "outputs": [],
   "source": [
    "## OPTIONAL: Load weights \n",
    "\n",
    "tokenizer = T5Tokenizer.from_pretrained('./weights/exp/t5_qa_tokenizer', device_map={\"\":0})\n",
    "model = T5ForConditionalGeneration.from_pretrained('./weights/exp/t5_qa_model', device_map={\"\":0})"
   ]
  },
  {
   "cell_type": "code",
   "execution_count": 6,
   "metadata": {},
   "outputs": [],
   "source": [
    "## Inference function\n",
    "\n",
    "def generate_pairs(input_text,temperature=1):\n",
    "    input_ids= tokenizer(\"generate_caps: \" + input_text, return_tensors='pt').input_ids\n",
    "\n",
    "    input_ids = input_ids.to('cuda:0')\n",
    "    outputs = model.generate(input_ids, max_length=128, temperature=temperature, do_sample=True)\n",
    "\n",
    "    return tokenizer.decode(outputs[0], skip_special_tokens=True)\n"
   ]
  },
  {
   "cell_type": "code",
   "execution_count": 7,
   "metadata": {},
   "outputs": [
    {
     "name": "stdout",
     "output_type": "stream",
     "text": [
      "Temp:  0.5\n",
      "Item Input:  Type:Dagger Series:Mach Color:White Buff:x3 Material:Iron Force:10 Range:20 Attachment:1\n",
      "Generated Complement:  Element:Bolt Series_Comp:Mach Force_Comp:20 Range_Comp:20 Source:Traditional\n",
      "\n",
      "\n",
      "Temp:  1\n",
      "Item Input:  Type:Dagger Series:Mach Color:White Buff:x3 Material:Iron Force:10 Range:20 Attachment:1\n",
      "Generated Complement:  Element:Fire Series_Comp:Mach Force_Comp:20 Range_Comp:20 Source:Steampunk\n",
      "\n",
      "\n",
      "Temp:  1.5\n",
      "Item Input:  Type:Dagger Series:Mach Color:White Buff:x3 Material:Iron Force:10 Range:20 Attachment:1\n",
      "Generated Complement:  Element:Bolt Series_Comp:Mach Force_Comp:20 Range_Comamp:20 Source:Steampunk\n",
      "\n",
      "\n"
     ]
    }
   ],
   "source": [
    "## Test Model\n",
    "\n",
    "input_text = 'Type:Dagger Series:Mach Color:White Buff:x3 Material:Iron Force:10 Range:20 Attachment:1'\n",
    "\n",
    "for temp in [0.5, 1, 1.5]:\n",
    "    output = generate_pairs(input_text, temperature=temp) \n",
    "    print('Temp: ', temp)\n",
    "    print('Item Input: ', input_text)\n",
    "    print('Generated Complement: ', output)\n",
    "    print('\\n')"
   ]
  }
 ],
 "metadata": {
  "kernelspec": {
   "display_name": "base",
   "language": "python",
   "name": "python3"
  },
  "language_info": {
   "codemirror_mode": {
    "name": "ipython",
    "version": 3
   },
   "file_extension": ".py",
   "mimetype": "text/x-python",
   "name": "python",
   "nbconvert_exporter": "python",
   "pygments_lexer": "ipython3",
   "version": "3.11.13"
  }
 },
 "nbformat": 4,
 "nbformat_minor": 2
}
